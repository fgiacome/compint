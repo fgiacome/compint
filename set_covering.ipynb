{
 "cells": [
  {
   "cell_type": "code",
   "execution_count": 145,
   "metadata": {},
   "outputs": [],
   "source": [
    "from random import random\n",
    "from functools import reduce\n",
    "from collections import namedtuple\n",
    "from queue import PriorityQueue\n",
    "\n",
    "import numpy as np\n",
    "from tqdm.auto import tqdm"
   ]
  },
  {
   "cell_type": "code",
   "execution_count": 146,
   "metadata": {},
   "outputs": [],
   "source": [
    "# Definition of problem constants and generation of the sets\n",
    "PROBLEM_SIZE = 20\n",
    "NUM_SETS = 250\n",
    "SETS = tuple(\n",
    "    np.array([random() < 0.2 for _ in range(PROBLEM_SIZE)]) for _ in range(NUM_SETS)\n",
    ")"
   ]
  },
  {
   "cell_type": "code",
   "execution_count": 147,
   "metadata": {},
   "outputs": [],
   "source": [
    "# Define algorithmic state and helper functions\n",
    "State = namedtuple(\"State\", [\"taken\", \"not_taken\"])\n",
    "\n",
    "\n",
    "def covered(state):\n",
    "    \"\"\"\n",
    "    Returns the characteristic function of the set of covered elements at the current state.\n",
    "    @param state: the current state\n",
    "    \"\"\"\n",
    "    return reduce(\n",
    "        np.logical_or,\n",
    "        [SETS[i] for i in state.taken],\n",
    "        np.array([False for _ in range(PROBLEM_SIZE)]),\n",
    "    )\n",
    "\n",
    "\n",
    "def goal_check(state):\n",
    "    \"\"\"\n",
    "    Checks whether the current state satisfies the goal\n",
    "    @param state: the current state\n",
    "    \"\"\"\n",
    "    return np.all(covered(state))"
   ]
  },
  {
   "cell_type": "code",
   "execution_count": 148,
   "metadata": {},
   "outputs": [],
   "source": [
    "class HeuristicAlgorithm:\n",
    "    def __init__(\n",
    "        self,\n",
    "        heuristic,  # a scalar function of the state\n",
    "        visit_state,  # a function that returns a collection of (neighboring) states from a state\n",
    "        goal_check,  # a function that checks a state to interrupt execution\n",
    "        total_cost=lambda _, h: h,  # a scalar function of the state and the heuristic\n",
    "    ):\n",
    "        \"\"\"\n",
    "        This class implements a heuristic algorithm.\n",
    "\n",
    "        @param heuristic: a scalar function of the state\n",
    "        @param visit_state: a function that returns a collection of states from a state\n",
    "        @param goal_check: a function that checks a state to interrupt execution\n",
    "        @param total_cost: a scalar function of the state and the heuristic,\n",
    "            defaults to the heuristic itself\n",
    "        \"\"\"\n",
    "        self.frontier = PriorityQueue()\n",
    "        self.h = heuristic\n",
    "        self.visit_state = visit_state\n",
    "        self.goal_check = goal_check\n",
    "        self.iterations_count = 0\n",
    "        self.f = lambda s: total_cost(s, self.h(s))\n",
    "        self.solution = None\n",
    "\n",
    "    def get_iterations_count(self):\n",
    "        return self.iterations_count\n",
    "\n",
    "    def solve(self, start_state):\n",
    "        self.frontier.put((self.f(start_state), start_state))\n",
    "        self.iterations_count = 0\n",
    "        _, current_state = self.frontier.get()\n",
    "        while not goal_check(current_state):\n",
    "            self.iterations_count += 1\n",
    "            for new_state in self.visit_state(current_state):\n",
    "                self.frontier.put((self.f(new_state), new_state))\n",
    "            # TODO handle no solution case\n",
    "            _, current_state = self.frontier.get()\n",
    "        self.solution = current_state\n",
    "\n",
    "    def get_solution(self):\n",
    "        return self.solution"
   ]
  },
  {
   "cell_type": "markdown",
   "metadata": {},
   "source": [
    "## Greedy best first\n"
   ]
  },
  {
   "cell_type": "code",
   "execution_count": 149,
   "metadata": {},
   "outputs": [
    {
     "name": "stdout",
     "output_type": "stream",
     "text": [
      "Solution found in 4 steps.\n",
      "Number of sets: 4\n",
      "Solution: {184, 130, 12, 20}\n"
     ]
    }
   ],
   "source": [
    "greedy_solver = HeuristicAlgorithm(\n",
    "    lambda s: PROBLEM_SIZE - sum(covered(s)),\n",
    "    lambda s: (State(s.taken ^ {i}, s.not_taken ^ {i}) for i in s[1]),\n",
    "    goal_check,\n",
    ")\n",
    "\n",
    "greedy_solver.solve(State(set(), set(range(NUM_SETS))))\n",
    "print(\"Solution found in\", greedy_solver.get_iterations_count(), \"steps.\")\n",
    "print(\"Number of sets:\", len(greedy_solver.get_solution().taken))\n",
    "print(\"Solution:\", greedy_solver.get_solution().taken)"
   ]
  },
  {
   "cell_type": "markdown",
   "metadata": {},
   "source": [
    "## A\\*\n"
   ]
  },
  {
   "cell_type": "code",
   "execution_count": 150,
   "metadata": {},
   "outputs": [],
   "source": [
    "def h(s):\n",
    "    \"\"\"\n",
    "    This heuristic is admissible.\n",
    "    It returns an optimistic estimate h of the number of sets necessary to complete the covering.\n",
    "\n",
    "    Let n be the cardinality of the set of uncovered elements.\n",
    "    h is equal to the minimum number of sets that cover the uncovered elements n times (counting\n",
    "    repetitions).\n",
    "    \"\"\"\n",
    "    already_covered = covered(s)\n",
    "    if np.all(already_covered):\n",
    "        return 0\n",
    "    missing_size = PROBLEM_SIZE - sum(already_covered)\n",
    "    candidates = sorted(\n",
    "        (sum(np.logical_and(s, np.logical_not(already_covered))) for s in SETS),\n",
    "        reverse=True,\n",
    "    )\n",
    "    taken = 1\n",
    "    while sum(candidates[:taken]) < missing_size:\n",
    "        taken += 1\n",
    "    return taken"
   ]
  },
  {
   "cell_type": "code",
   "execution_count": 151,
   "metadata": {},
   "outputs": [
    {
     "name": "stdout",
     "output_type": "stream",
     "text": [
      "Solution found in 63 steps.\n",
      "Number of sets: 3\n",
      "Solution: {195, 213, 239}\n"
     ]
    }
   ],
   "source": [
    "astar_solver = HeuristicAlgorithm(\n",
    "    h,\n",
    "    lambda s: (State(s.taken ^ {i}, s.not_taken ^ {i}) for i in s[1]),\n",
    "    goal_check,\n",
    "    lambda s, h: len(s.taken) + h,\n",
    ")\n",
    "\n",
    "astar_solver.solve(State(set(), set(range(NUM_SETS))))\n",
    "print(\"Solution found in\", astar_solver.get_iterations_count(), \"steps.\")\n",
    "print(\"Number of sets:\", len(astar_solver.get_solution().taken))\n",
    "print(\"Solution:\", astar_solver.get_solution().taken)"
   ]
  }
 ],
 "metadata": {
  "kernelspec": {
   "display_name": "231003_venv",
   "language": "python",
   "name": "python3"
  },
  "language_info": {
   "codemirror_mode": {
    "name": "ipython",
    "version": 3
   },
   "file_extension": ".py",
   "mimetype": "text/x-python",
   "name": "python",
   "nbconvert_exporter": "python",
   "pygments_lexer": "ipython3",
   "version": "3.11.4"
  }
 },
 "nbformat": 4,
 "nbformat_minor": 2
}
